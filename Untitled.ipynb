{
 "cells": [
  {
   "cell_type": "code",
   "execution_count": 1,
   "metadata": {},
   "outputs": [],
   "source": [
    "from rdkit import Chem"
   ]
  },
  {
   "cell_type": "code",
   "execution_count": 2,
   "metadata": {},
   "outputs": [],
   "source": [
    "sdfile = Chem.SDMolSupplier('data/TR_MP_6486.sdf')"
   ]
  },
  {
   "cell_type": "code",
   "execution_count": 3,
   "metadata": {},
   "outputs": [
    {
     "name": "stdout",
     "output_type": "stream",
     "text": [
      "6486\n"
     ]
    }
   ],
   "source": [
    "count = 0\n",
    "for mol in sdfile:\n",
    "    if mol is None: continue\n",
    "    count = count + 1\n",
    "    \n",
    "print(count)"
   ]
  },
  {
   "cell_type": "code",
   "execution_count": 4,
   "metadata": {},
   "outputs": [
    {
     "data": {
      "text/plain": [
       "<rdkit.Chem.rdchem.Mol at 0x7c80da0>"
      ]
     },
     "execution_count": 4,
     "metadata": {},
     "output_type": "execute_result"
    }
   ],
   "source": [
    "mol"
   ]
  },
  {
   "cell_type": "code",
   "execution_count": 11,
   "metadata": {},
   "outputs": [],
   "source": [
    "from rdkit import RDConfig"
   ]
  },
  {
   "cell_type": "code",
   "execution_count": 5,
   "metadata": {},
   "outputs": [],
   "source": [
    "from rdkit.Chem import rdMolDescriptors"
   ]
  },
  {
   "cell_type": "code",
   "execution_count": 12,
   "metadata": {},
   "outputs": [],
   "source": [
    "from rdkit.Chem import PandasTools"
   ]
  },
  {
   "cell_type": "code",
   "execution_count": 7,
   "metadata": {},
   "outputs": [
    {
     "name": "stdout",
     "output_type": "stream",
     "text": [
      "exactmw 347.246043916\n",
      "lipinskiHBA 4.0\n",
      "lipinskiHBD 0.0\n",
      "NumRotatableBonds 13.0\n",
      "NumHBD 0.0\n",
      "NumHBA 3.0\n",
      "NumHeteroatoms 4.0\n",
      "NumAmideBonds 1.0\n",
      "FractionCSP3 0.6190476190476191\n",
      "NumRings 1.0\n",
      "NumAromaticRings 1.0\n",
      "NumAliphaticRings 0.0\n",
      "NumSaturatedRings 0.0\n",
      "NumHeterocycles 0.0\n",
      "NumAromaticHeterocycles 0.0\n",
      "NumSaturatedHeterocycles 0.0\n",
      "NumAliphaticHeterocycles 0.0\n",
      "NumSpiroAtoms 0.0\n",
      "NumBridgeheadAtoms 0.0\n",
      "NumAtomStereoCenters 0.0\n",
      "NumUnspecifiedAtomStereoCenters 0.0\n",
      "labuteASA 152.10195793524386\n",
      "tpsa 46.61\n",
      "CrippenClogP 4.832600000000005\n",
      "CrippenMR 101.58850000000008\n"
     ]
    }
   ],
   "source": [
    "properties = rdMolDescriptors.Properties()\n",
    "for name, value in zip(properties.GetPropertyNames(), properties.ComputeProperties(mol)):\n",
    "  print(name, value)"
   ]
  },
  {
   "cell_type": "code",
   "execution_count": 13,
   "metadata": {},
   "outputs": [],
   "source": [
    "import pandas as pd"
   ]
  },
  {
   "cell_type": "code",
   "execution_count": 14,
   "metadata": {},
   "outputs": [],
   "source": [
    "import os"
   ]
  },
  {
   "cell_type": "code",
   "execution_count": 15,
   "metadata": {},
   "outputs": [],
   "source": [
    "frame = PandasTools.LoadSDF('data/TR_MP_6486.sdf') "
   ]
  },
  {
   "cell_type": "code",
   "execution_count": 8,
   "metadata": {},
   "outputs": [],
   "source": [
    "from rdkit.Chem import Descriptors"
   ]
  },
  {
   "cell_type": "code",
   "execution_count": null,
   "metadata": {},
   "outputs": [],
   "source": []
  }
 ],
 "metadata": {
  "kernelspec": {
   "display_name": "Python 3",
   "language": "python",
   "name": "python3"
  },
  "language_info": {
   "codemirror_mode": {
    "name": "ipython",
    "version": 3
   },
   "file_extension": ".py",
   "mimetype": "text/x-python",
   "name": "python",
   "nbconvert_exporter": "python",
   "pygments_lexer": "ipython3",
   "version": "3.6.4"
  }
 },
 "nbformat": 4,
 "nbformat_minor": 2
}
